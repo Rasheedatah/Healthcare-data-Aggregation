{
 "cells": [
  {
   "cell_type": "markdown",
   "id": "0945ad11",
   "metadata": {},
   "source": [
    "# HEALTHCARE DATA AGGREGATION"
   ]
  },
  {
   "cell_type": "markdown",
   "id": "6cd05a20",
   "metadata": {},
   "source": [
    "Introduction:\n",
    "1. Data Integration\n",
    "2. Data Visulaization"
   ]
  },
  {
   "cell_type": "markdown",
   "id": "290a1ae3",
   "metadata": {},
   "source": [
    "# DATA INTEGRATION"
   ]
  },
  {
   "cell_type": "code",
   "execution_count": 1,
   "id": "5f225ba6",
   "metadata": {},
   "outputs": [],
   "source": [
    "#Import data science package\n",
    "import pandas as pd"
   ]
  },
  {
   "cell_type": "code",
   "execution_count": 2,
   "id": "82cd77e4",
   "metadata": {},
   "outputs": [],
   "source": [
    "# Load sample healthcare datasets\n",
    "ra_outbreak = pd.read_csv ('meningitis_dataset.csv')\n",
    "ra_insurance = pd.read_csv('insurance_data.csv')\n",
    "ra_cost = pd.read_csv('medical_cost.csv')"
   ]
  },
  {
   "cell_type": "code",
   "execution_count": 3,
   "id": "48dabe88",
   "metadata": {},
   "outputs": [
    {
     "data": {
      "text/html": [
       "<div>\n",
       "<style scoped>\n",
       "    .dataframe tbody tr th:only-of-type {\n",
       "        vertical-align: middle;\n",
       "    }\n",
       "\n",
       "    .dataframe tbody tr th {\n",
       "        vertical-align: top;\n",
       "    }\n",
       "\n",
       "    .dataframe thead th {\n",
       "        text-align: right;\n",
       "    }\n",
       "</style>\n",
       "<table border=\"1\" class=\"dataframe\">\n",
       "  <thead>\n",
       "    <tr style=\"text-align: right;\">\n",
       "      <th></th>\n",
       "      <th>id</th>\n",
       "      <th>surname</th>\n",
       "      <th>firstname</th>\n",
       "      <th>middlename</th>\n",
       "      <th>gender</th>\n",
       "      <th>gender_male</th>\n",
       "      <th>gender_female</th>\n",
       "      <th>state</th>\n",
       "      <th>settlement</th>\n",
       "      <th>rural_settlement</th>\n",
       "      <th>...</th>\n",
       "      <th>NmA</th>\n",
       "      <th>NmC</th>\n",
       "      <th>NmW</th>\n",
       "      <th>health_status</th>\n",
       "      <th>alive</th>\n",
       "      <th>dead</th>\n",
       "      <th>report_outcome</th>\n",
       "      <th>unconfirmed</th>\n",
       "      <th>confirmed</th>\n",
       "      <th>null_serotype</th>\n",
       "    </tr>\n",
       "  </thead>\n",
       "  <tbody>\n",
       "    <tr>\n",
       "      <th>0</th>\n",
       "      <td>1</td>\n",
       "      <td>Solade</td>\n",
       "      <td>Grace</td>\n",
       "      <td>Solape</td>\n",
       "      <td>Female</td>\n",
       "      <td>0</td>\n",
       "      <td>1</td>\n",
       "      <td>Rivers</td>\n",
       "      <td>Rural</td>\n",
       "      <td>1</td>\n",
       "      <td>...</td>\n",
       "      <td>0</td>\n",
       "      <td>0</td>\n",
       "      <td>0</td>\n",
       "      <td>alive</td>\n",
       "      <td>1</td>\n",
       "      <td>0</td>\n",
       "      <td>confirmed</td>\n",
       "      <td>0</td>\n",
       "      <td>1</td>\n",
       "      <td>1</td>\n",
       "    </tr>\n",
       "    <tr>\n",
       "      <th>1</th>\n",
       "      <td>2</td>\n",
       "      <td>Eneche</td>\n",
       "      <td>Kure</td>\n",
       "      <td>Balogun</td>\n",
       "      <td>Male</td>\n",
       "      <td>1</td>\n",
       "      <td>0</td>\n",
       "      <td>Ebonyi</td>\n",
       "      <td>Rural</td>\n",
       "      <td>1</td>\n",
       "      <td>...</td>\n",
       "      <td>0</td>\n",
       "      <td>0</td>\n",
       "      <td>1</td>\n",
       "      <td>Alive</td>\n",
       "      <td>1</td>\n",
       "      <td>0</td>\n",
       "      <td>Confirmed</td>\n",
       "      <td>1</td>\n",
       "      <td>0</td>\n",
       "      <td>1</td>\n",
       "    </tr>\n",
       "  </tbody>\n",
       "</table>\n",
       "<p>2 rows × 40 columns</p>\n",
       "</div>"
      ],
      "text/plain": [
       "   id surname firstname middlename  gender  gender_male  gender_female  \\\n",
       "0   1  Solade     Grace     Solape  Female            0              1   \n",
       "1   2  Eneche      Kure    Balogun    Male            1              0   \n",
       "\n",
       "    state settlement  rural_settlement  ...  NmA NmC  NmW  health_status  \\\n",
       "0  Rivers      Rural                 1  ...    0   0    0          alive   \n",
       "1  Ebonyi      Rural                 1  ...    0   0    1          Alive   \n",
       "\n",
       "  alive dead  report_outcome  unconfirmed confirmed  null_serotype  \n",
       "0     1    0       confirmed            0         1              1  \n",
       "1     1    0       Confirmed            1         0              1  \n",
       "\n",
       "[2 rows x 40 columns]"
      ]
     },
     "execution_count": 3,
     "metadata": {},
     "output_type": "execute_result"
    }
   ],
   "source": [
    "#inspect dataset: get the neccesary information on your dataset and make informed decision based on your goal.\n",
    "ra_outbreak.head(2)"
   ]
  },
  {
   "cell_type": "code",
   "execution_count": 4,
   "id": "968cb99b",
   "metadata": {},
   "outputs": [],
   "source": [
    "#ra_outbreak.columns"
   ]
  },
  {
   "cell_type": "code",
   "execution_count": 5,
   "id": "6f9ef962",
   "metadata": {},
   "outputs": [],
   "source": [
    "#dropping a column\n",
    "ra_outbreak.drop (columns= ['middlename','serotype', 'gender_male','rural_settlement',\n",
    "       'urban_settlement', 'report_date', 'report_year', 'age_str','cholera',\n",
    "       'diarrhoea', 'measles', 'viral_haemmorrhaphic_fever', 'meningitis',\n",
    "       'ebola', 'marburg_virus', 'yellow_fever', 'rubella_mars', 'malaria',\n",
    "       'serotype', 'NmA', 'NmC', 'NmW','alive', 'dead', 'unconfirmed', 'confirmed', 'null_serotype',\n",
    "       'gender_female','child_group', 'adult_group'], axis=1, inplace = True)"
   ]
  },
  {
   "cell_type": "code",
   "execution_count": 6,
   "id": "c06bb44b",
   "metadata": {},
   "outputs": [
    {
     "data": {
      "text/html": [
       "<div>\n",
       "<style scoped>\n",
       "    .dataframe tbody tr th:only-of-type {\n",
       "        vertical-align: middle;\n",
       "    }\n",
       "\n",
       "    .dataframe tbody tr th {\n",
       "        vertical-align: top;\n",
       "    }\n",
       "\n",
       "    .dataframe thead th {\n",
       "        text-align: right;\n",
       "    }\n",
       "</style>\n",
       "<table border=\"1\" class=\"dataframe\">\n",
       "  <thead>\n",
       "    <tr style=\"text-align: right;\">\n",
       "      <th></th>\n",
       "      <th>id</th>\n",
       "      <th>surname</th>\n",
       "      <th>firstname</th>\n",
       "      <th>gender</th>\n",
       "      <th>state</th>\n",
       "      <th>settlement</th>\n",
       "      <th>age</th>\n",
       "      <th>date_of_birth</th>\n",
       "      <th>disease</th>\n",
       "      <th>health_status</th>\n",
       "      <th>report_outcome</th>\n",
       "    </tr>\n",
       "  </thead>\n",
       "  <tbody>\n",
       "    <tr>\n",
       "      <th>0</th>\n",
       "      <td>1</td>\n",
       "      <td>Solade</td>\n",
       "      <td>Grace</td>\n",
       "      <td>Female</td>\n",
       "      <td>Rivers</td>\n",
       "      <td>Rural</td>\n",
       "      <td>32</td>\n",
       "      <td>1986-01-17</td>\n",
       "      <td>Cholera</td>\n",
       "      <td>alive</td>\n",
       "      <td>confirmed</td>\n",
       "    </tr>\n",
       "    <tr>\n",
       "      <th>1</th>\n",
       "      <td>2</td>\n",
       "      <td>Eneche</td>\n",
       "      <td>Kure</td>\n",
       "      <td>Male</td>\n",
       "      <td>Ebonyi</td>\n",
       "      <td>Rural</td>\n",
       "      <td>32</td>\n",
       "      <td>1985-09-01</td>\n",
       "      <td>Marburg Virus</td>\n",
       "      <td>Alive</td>\n",
       "      <td>Confirmed</td>\n",
       "    </tr>\n",
       "  </tbody>\n",
       "</table>\n",
       "</div>"
      ],
      "text/plain": [
       "   id surname firstname  gender   state settlement  age date_of_birth  \\\n",
       "0   1  Solade     Grace  Female  Rivers      Rural   32    1986-01-17   \n",
       "1   2  Eneche      Kure    Male  Ebonyi      Rural   32    1985-09-01   \n",
       "\n",
       "         disease health_status report_outcome  \n",
       "0        Cholera         alive      confirmed  \n",
       "1  Marburg Virus         Alive      Confirmed  "
      ]
     },
     "execution_count": 6,
     "metadata": {},
     "output_type": "execute_result"
    }
   ],
   "source": [
    "ra_outbreak.head(2)"
   ]
  },
  {
   "cell_type": "code",
   "execution_count": 7,
   "id": "17770ba4",
   "metadata": {},
   "outputs": [
    {
     "data": {
      "text/plain": [
       "(284484, 11)"
      ]
     },
     "execution_count": 7,
     "metadata": {},
     "output_type": "execute_result"
    }
   ],
   "source": [
    "ra_outbreak.shape"
   ]
  },
  {
   "cell_type": "code",
   "execution_count": 8,
   "id": "b98e20e4",
   "metadata": {},
   "outputs": [
    {
     "data": {
      "text/plain": [
       "(1340, 11)"
      ]
     },
     "execution_count": 8,
     "metadata": {},
     "output_type": "execute_result"
    }
   ],
   "source": [
    "ra_insurance.shape"
   ]
  },
  {
   "cell_type": "code",
   "execution_count": 9,
   "id": "428ad9ee",
   "metadata": {},
   "outputs": [
    {
     "data": {
      "text/plain": [
       "index            0\n",
       "PatientID        0\n",
       "age              5\n",
       "gender           0\n",
       "bmi              0\n",
       "bloodpressure    0\n",
       "diabetic         0\n",
       "children         0\n",
       "smoker           0\n",
       "region           3\n",
       "claim            0\n",
       "dtype: int64"
      ]
     },
     "execution_count": 9,
     "metadata": {},
     "output_type": "execute_result"
    }
   ],
   "source": [
    "ra_insurance.isnull().sum()"
   ]
  },
  {
   "cell_type": "code",
   "execution_count": 10,
   "id": "a419e38b",
   "metadata": {},
   "outputs": [
    {
     "data": {
      "text/html": [
       "<div>\n",
       "<style scoped>\n",
       "    .dataframe tbody tr th:only-of-type {\n",
       "        vertical-align: middle;\n",
       "    }\n",
       "\n",
       "    .dataframe tbody tr th {\n",
       "        vertical-align: top;\n",
       "    }\n",
       "\n",
       "    .dataframe thead th {\n",
       "        text-align: right;\n",
       "    }\n",
       "</style>\n",
       "<table border=\"1\" class=\"dataframe\">\n",
       "  <thead>\n",
       "    <tr style=\"text-align: right;\">\n",
       "      <th></th>\n",
       "      <th>Id</th>\n",
       "      <th>age</th>\n",
       "      <th>sex</th>\n",
       "      <th>bmi</th>\n",
       "      <th>children</th>\n",
       "      <th>smoker</th>\n",
       "      <th>region</th>\n",
       "      <th>charges</th>\n",
       "    </tr>\n",
       "  </thead>\n",
       "  <tbody>\n",
       "    <tr>\n",
       "      <th>0</th>\n",
       "      <td>1</td>\n",
       "      <td>19</td>\n",
       "      <td>female</td>\n",
       "      <td>27.90</td>\n",
       "      <td>0</td>\n",
       "      <td>yes</td>\n",
       "      <td>southwest</td>\n",
       "      <td>16884.9240</td>\n",
       "    </tr>\n",
       "    <tr>\n",
       "      <th>1</th>\n",
       "      <td>2</td>\n",
       "      <td>18</td>\n",
       "      <td>male</td>\n",
       "      <td>33.77</td>\n",
       "      <td>1</td>\n",
       "      <td>no</td>\n",
       "      <td>southeast</td>\n",
       "      <td>1725.5523</td>\n",
       "    </tr>\n",
       "  </tbody>\n",
       "</table>\n",
       "</div>"
      ],
      "text/plain": [
       "   Id  age     sex    bmi  children smoker     region     charges\n",
       "0   1   19  female  27.90         0    yes  southwest  16884.9240\n",
       "1   2   18    male  33.77         1     no  southeast   1725.5523"
      ]
     },
     "execution_count": 10,
     "metadata": {},
     "output_type": "execute_result"
    }
   ],
   "source": [
    "ra_cost.head(2)"
   ]
  },
  {
   "cell_type": "code",
   "execution_count": 11,
   "id": "92d27385",
   "metadata": {},
   "outputs": [
    {
     "data": {
      "text/plain": [
       "(1338, 8)"
      ]
     },
     "execution_count": 11,
     "metadata": {},
     "output_type": "execute_result"
    }
   ],
   "source": [
    "ra_cost.shape"
   ]
  },
  {
   "cell_type": "code",
   "execution_count": 12,
   "id": "0fb22855",
   "metadata": {},
   "outputs": [],
   "source": [
    "#dropping a column\n",
    "ra_insurance.drop (columns= ['index'], axis=1, inplace = True)"
   ]
  },
  {
   "cell_type": "code",
   "execution_count": 13,
   "id": "ab0a3106",
   "metadata": {},
   "outputs": [
    {
     "data": {
      "text/html": [
       "<div>\n",
       "<style scoped>\n",
       "    .dataframe tbody tr th:only-of-type {\n",
       "        vertical-align: middle;\n",
       "    }\n",
       "\n",
       "    .dataframe tbody tr th {\n",
       "        vertical-align: top;\n",
       "    }\n",
       "\n",
       "    .dataframe thead th {\n",
       "        text-align: right;\n",
       "    }\n",
       "</style>\n",
       "<table border=\"1\" class=\"dataframe\">\n",
       "  <thead>\n",
       "    <tr style=\"text-align: right;\">\n",
       "      <th></th>\n",
       "      <th>PatientID</th>\n",
       "      <th>age</th>\n",
       "      <th>gender</th>\n",
       "      <th>bmi</th>\n",
       "      <th>bloodpressure</th>\n",
       "      <th>diabetic</th>\n",
       "      <th>children</th>\n",
       "      <th>smoker</th>\n",
       "      <th>region</th>\n",
       "      <th>claim</th>\n",
       "    </tr>\n",
       "  </thead>\n",
       "  <tbody>\n",
       "    <tr>\n",
       "      <th>0</th>\n",
       "      <td>1</td>\n",
       "      <td>39.000000</td>\n",
       "      <td>male</td>\n",
       "      <td>23.2</td>\n",
       "      <td>91</td>\n",
       "      <td>Yes</td>\n",
       "      <td>0</td>\n",
       "      <td>No</td>\n",
       "      <td>southeast</td>\n",
       "      <td>1121.87</td>\n",
       "    </tr>\n",
       "    <tr>\n",
       "      <th>1</th>\n",
       "      <td>2</td>\n",
       "      <td>24.000000</td>\n",
       "      <td>male</td>\n",
       "      <td>30.1</td>\n",
       "      <td>87</td>\n",
       "      <td>No</td>\n",
       "      <td>0</td>\n",
       "      <td>No</td>\n",
       "      <td>southeast</td>\n",
       "      <td>1131.51</td>\n",
       "    </tr>\n",
       "    <tr>\n",
       "      <th>2</th>\n",
       "      <td>3</td>\n",
       "      <td>23.166667</td>\n",
       "      <td>male</td>\n",
       "      <td>33.3</td>\n",
       "      <td>82</td>\n",
       "      <td>Yes</td>\n",
       "      <td>0</td>\n",
       "      <td>No</td>\n",
       "      <td>southeast</td>\n",
       "      <td>1135.94</td>\n",
       "    </tr>\n",
       "    <tr>\n",
       "      <th>3</th>\n",
       "      <td>4</td>\n",
       "      <td>22.333333</td>\n",
       "      <td>male</td>\n",
       "      <td>33.7</td>\n",
       "      <td>80</td>\n",
       "      <td>No</td>\n",
       "      <td>0</td>\n",
       "      <td>No</td>\n",
       "      <td>northwest</td>\n",
       "      <td>1136.40</td>\n",
       "    </tr>\n",
       "    <tr>\n",
       "      <th>4</th>\n",
       "      <td>5</td>\n",
       "      <td>21.500000</td>\n",
       "      <td>male</td>\n",
       "      <td>34.1</td>\n",
       "      <td>100</td>\n",
       "      <td>No</td>\n",
       "      <td>0</td>\n",
       "      <td>No</td>\n",
       "      <td>northwest</td>\n",
       "      <td>1137.01</td>\n",
       "    </tr>\n",
       "  </tbody>\n",
       "</table>\n",
       "</div>"
      ],
      "text/plain": [
       "   PatientID        age gender   bmi  bloodpressure diabetic  children smoker  \\\n",
       "0          1  39.000000   male  23.2             91      Yes         0     No   \n",
       "1          2  24.000000   male  30.1             87       No         0     No   \n",
       "2          3  23.166667   male  33.3             82      Yes         0     No   \n",
       "3          4  22.333333   male  33.7             80       No         0     No   \n",
       "4          5  21.500000   male  34.1            100       No         0     No   \n",
       "\n",
       "      region    claim  \n",
       "0  southeast  1121.87  \n",
       "1  southeast  1131.51  \n",
       "2  southeast  1135.94  \n",
       "3  northwest  1136.40  \n",
       "4  northwest  1137.01  "
      ]
     },
     "execution_count": 13,
     "metadata": {},
     "output_type": "execute_result"
    }
   ],
   "source": [
    "#data imputation\n",
    "import numpy as np\n",
    "ra_insurance['age'] = ra_insurance['age'].interpolate()\n",
    "\n",
    "# Display the first few rows of the DataFrame to verify the interpolation\n",
    "ra_insurance.head()"
   ]
  },
  {
   "cell_type": "code",
   "execution_count": 14,
   "id": "2b523fbd",
   "metadata": {},
   "outputs": [
    {
     "data": {
      "text/html": [
       "<div>\n",
       "<style scoped>\n",
       "    .dataframe tbody tr th:only-of-type {\n",
       "        vertical-align: middle;\n",
       "    }\n",
       "\n",
       "    .dataframe tbody tr th {\n",
       "        vertical-align: top;\n",
       "    }\n",
       "\n",
       "    .dataframe thead th {\n",
       "        text-align: right;\n",
       "    }\n",
       "</style>\n",
       "<table border=\"1\" class=\"dataframe\">\n",
       "  <thead>\n",
       "    <tr style=\"text-align: right;\">\n",
       "      <th></th>\n",
       "      <th>PatientID</th>\n",
       "      <th>age</th>\n",
       "      <th>gender</th>\n",
       "      <th>bmi</th>\n",
       "      <th>bloodpressure</th>\n",
       "      <th>diabetic</th>\n",
       "      <th>children</th>\n",
       "      <th>smoker</th>\n",
       "      <th>region</th>\n",
       "      <th>claim</th>\n",
       "    </tr>\n",
       "  </thead>\n",
       "  <tbody>\n",
       "    <tr>\n",
       "      <th>0</th>\n",
       "      <td>1</td>\n",
       "      <td>39</td>\n",
       "      <td>male</td>\n",
       "      <td>23.2</td>\n",
       "      <td>91</td>\n",
       "      <td>Yes</td>\n",
       "      <td>0</td>\n",
       "      <td>No</td>\n",
       "      <td>southeast</td>\n",
       "      <td>1121.87</td>\n",
       "    </tr>\n",
       "    <tr>\n",
       "      <th>1</th>\n",
       "      <td>2</td>\n",
       "      <td>24</td>\n",
       "      <td>male</td>\n",
       "      <td>30.1</td>\n",
       "      <td>87</td>\n",
       "      <td>No</td>\n",
       "      <td>0</td>\n",
       "      <td>No</td>\n",
       "      <td>southeast</td>\n",
       "      <td>1131.51</td>\n",
       "    </tr>\n",
       "  </tbody>\n",
       "</table>\n",
       "</div>"
      ],
      "text/plain": [
       "   PatientID  age gender   bmi  bloodpressure diabetic  children smoker  \\\n",
       "0          1   39   male  23.2             91      Yes         0     No   \n",
       "1          2   24   male  30.1             87       No         0     No   \n",
       "\n",
       "      region    claim  \n",
       "0  southeast  1121.87  \n",
       "1  southeast  1131.51  "
      ]
     },
     "execution_count": 14,
     "metadata": {},
     "output_type": "execute_result"
    }
   ],
   "source": [
    "ra_insurance['age'] = ra_insurance['age'].astype(int)\n",
    "\n",
    "# Display the DataFrame to verify the changes\n",
    "ra_insurance.head(2)"
   ]
  },
  {
   "cell_type": "code",
   "execution_count": 15,
   "id": "3b12a761",
   "metadata": {},
   "outputs": [
    {
     "data": {
      "text/html": [
       "<div>\n",
       "<style scoped>\n",
       "    .dataframe tbody tr th:only-of-type {\n",
       "        vertical-align: middle;\n",
       "    }\n",
       "\n",
       "    .dataframe tbody tr th {\n",
       "        vertical-align: top;\n",
       "    }\n",
       "\n",
       "    .dataframe thead th {\n",
       "        text-align: right;\n",
       "    }\n",
       "</style>\n",
       "<table border=\"1\" class=\"dataframe\">\n",
       "  <thead>\n",
       "    <tr style=\"text-align: right;\">\n",
       "      <th></th>\n",
       "      <th>PatientID</th>\n",
       "      <th>age</th>\n",
       "      <th>gender</th>\n",
       "      <th>bmi</th>\n",
       "      <th>bloodpressure</th>\n",
       "      <th>diabetic</th>\n",
       "      <th>children</th>\n",
       "      <th>smoker</th>\n",
       "      <th>region</th>\n",
       "      <th>claim</th>\n",
       "    </tr>\n",
       "  </thead>\n",
       "  <tbody>\n",
       "    <tr>\n",
       "      <th>0</th>\n",
       "      <td>1</td>\n",
       "      <td>39</td>\n",
       "      <td>male</td>\n",
       "      <td>23.2</td>\n",
       "      <td>91</td>\n",
       "      <td>Yes</td>\n",
       "      <td>0</td>\n",
       "      <td>No</td>\n",
       "      <td>southeast</td>\n",
       "      <td>1121.87</td>\n",
       "    </tr>\n",
       "    <tr>\n",
       "      <th>1</th>\n",
       "      <td>2</td>\n",
       "      <td>24</td>\n",
       "      <td>male</td>\n",
       "      <td>30.1</td>\n",
       "      <td>87</td>\n",
       "      <td>No</td>\n",
       "      <td>0</td>\n",
       "      <td>No</td>\n",
       "      <td>southeast</td>\n",
       "      <td>1131.51</td>\n",
       "    </tr>\n",
       "    <tr>\n",
       "      <th>2</th>\n",
       "      <td>3</td>\n",
       "      <td>23</td>\n",
       "      <td>male</td>\n",
       "      <td>33.3</td>\n",
       "      <td>82</td>\n",
       "      <td>Yes</td>\n",
       "      <td>0</td>\n",
       "      <td>No</td>\n",
       "      <td>southeast</td>\n",
       "      <td>1135.94</td>\n",
       "    </tr>\n",
       "    <tr>\n",
       "      <th>3</th>\n",
       "      <td>4</td>\n",
       "      <td>22</td>\n",
       "      <td>male</td>\n",
       "      <td>33.7</td>\n",
       "      <td>80</td>\n",
       "      <td>No</td>\n",
       "      <td>0</td>\n",
       "      <td>No</td>\n",
       "      <td>northwest</td>\n",
       "      <td>1136.40</td>\n",
       "    </tr>\n",
       "    <tr>\n",
       "      <th>4</th>\n",
       "      <td>5</td>\n",
       "      <td>21</td>\n",
       "      <td>male</td>\n",
       "      <td>34.1</td>\n",
       "      <td>100</td>\n",
       "      <td>No</td>\n",
       "      <td>0</td>\n",
       "      <td>No</td>\n",
       "      <td>northwest</td>\n",
       "      <td>1137.01</td>\n",
       "    </tr>\n",
       "  </tbody>\n",
       "</table>\n",
       "</div>"
      ],
      "text/plain": [
       "   PatientID  age gender   bmi  bloodpressure diabetic  children smoker  \\\n",
       "0          1   39   male  23.2             91      Yes         0     No   \n",
       "1          2   24   male  30.1             87       No         0     No   \n",
       "2          3   23   male  33.3             82      Yes         0     No   \n",
       "3          4   22   male  33.7             80       No         0     No   \n",
       "4          5   21   male  34.1            100       No         0     No   \n",
       "\n",
       "      region    claim  \n",
       "0  southeast  1121.87  \n",
       "1  southeast  1131.51  \n",
       "2  southeast  1135.94  \n",
       "3  northwest  1136.40  \n",
       "4  northwest  1137.01  "
      ]
     },
     "execution_count": 15,
     "metadata": {},
     "output_type": "execute_result"
    }
   ],
   "source": [
    "# Forward fill missing values in the 'region' column and assign back to the original DataFrame\n",
    "ra_insurance['region'] = ra_insurance['region'].ffill()\n",
    "\n",
    "# Display the first few rows of the DataFrame to verify the forward fill\n",
    "ra_insurance.head()"
   ]
  },
  {
   "cell_type": "code",
   "execution_count": 16,
   "id": "27d0041a",
   "metadata": {},
   "outputs": [],
   "source": [
    "#rename a column\n",
    "ra_insurance.rename(columns={\"PatientID\": \"Id\"}, inplace=True)"
   ]
  },
  {
   "cell_type": "code",
   "execution_count": 17,
   "id": "1b5f4c17",
   "metadata": {},
   "outputs": [],
   "source": [
    "ra_cost.rename(columns={\"PatientID\": \"Id\"}, inplace=True)"
   ]
  },
  {
   "cell_type": "code",
   "execution_count": 18,
   "id": "04c5463f",
   "metadata": {},
   "outputs": [],
   "source": [
    "ra_outbreak.rename(columns={\"id\": \"Id\"}, inplace=True)"
   ]
  },
  {
   "cell_type": "code",
   "execution_count": 19,
   "id": "c5e9c69b",
   "metadata": {},
   "outputs": [],
   "source": [
    "import pandas as pd\n",
    "# Merge datasets on common keys (Id)\n",
    "ra_merged = pd.merge(ra_outbreak, ra_insurance, on='Id')\n",
    "ra_merged = pd.merge(ra_merged, ra_cost, on='Id')"
   ]
  },
  {
   "cell_type": "code",
   "execution_count": 56,
   "id": "6232d7ee",
   "metadata": {},
   "outputs": [
    {
     "data": {
      "text/html": [
       "<div>\n",
       "<style scoped>\n",
       "    .dataframe tbody tr th:only-of-type {\n",
       "        vertical-align: middle;\n",
       "    }\n",
       "\n",
       "    .dataframe tbody tr th {\n",
       "        vertical-align: top;\n",
       "    }\n",
       "\n",
       "    .dataframe thead th {\n",
       "        text-align: right;\n",
       "    }\n",
       "</style>\n",
       "<table border=\"1\" class=\"dataframe\">\n",
       "  <thead>\n",
       "    <tr style=\"text-align: right;\">\n",
       "      <th></th>\n",
       "      <th>Id</th>\n",
       "      <th>surname</th>\n",
       "      <th>firstname</th>\n",
       "      <th>gender</th>\n",
       "      <th>state</th>\n",
       "      <th>settlement</th>\n",
       "      <th>date_of_birth</th>\n",
       "      <th>disease</th>\n",
       "      <th>health_status</th>\n",
       "      <th>report_outcome</th>\n",
       "      <th>...</th>\n",
       "      <th>diabetic</th>\n",
       "      <th>children</th>\n",
       "      <th>smoker</th>\n",
       "      <th>region</th>\n",
       "      <th>claim</th>\n",
       "      <th>age</th>\n",
       "      <th>sex</th>\n",
       "      <th>charges</th>\n",
       "      <th>bmi</th>\n",
       "      <th>age_group</th>\n",
       "    </tr>\n",
       "  </thead>\n",
       "  <tbody>\n",
       "    <tr>\n",
       "      <th>1309</th>\n",
       "      <td>1329</td>\n",
       "      <td>Akinyemi</td>\n",
       "      <td>Alexandria</td>\n",
       "      <td>Female</td>\n",
       "      <td>Bauchi</td>\n",
       "      <td>Urban</td>\n",
       "      <td>1958-06-21</td>\n",
       "      <td>Yellow Fever</td>\n",
       "      <td>alive</td>\n",
       "      <td>Not Confirmed</td>\n",
       "      <td>...</td>\n",
       "      <td>No</td>\n",
       "      <td>1</td>\n",
       "      <td>Yes</td>\n",
       "      <td>southeast</td>\n",
       "      <td>48675.52</td>\n",
       "      <td>52.0</td>\n",
       "      <td>female</td>\n",
       "      <td>22395.74424</td>\n",
       "      <td>42.1</td>\n",
       "      <td>50-69</td>\n",
       "    </tr>\n",
       "    <tr>\n",
       "      <th>1310</th>\n",
       "      <td>1330</td>\n",
       "      <td>Ado</td>\n",
       "      <td>Benedicta</td>\n",
       "      <td>Female</td>\n",
       "      <td>Cross River</td>\n",
       "      <td>Rural</td>\n",
       "      <td>2003-10-27</td>\n",
       "      <td>Diarrhoea</td>\n",
       "      <td>dead</td>\n",
       "      <td>Confirmed</td>\n",
       "      <td>...</td>\n",
       "      <td>Yes</td>\n",
       "      <td>0</td>\n",
       "      <td>Yes</td>\n",
       "      <td>southwest</td>\n",
       "      <td>48824.45</td>\n",
       "      <td>32.5</td>\n",
       "      <td>male</td>\n",
       "      <td>10325.20600</td>\n",
       "      <td>37.7</td>\n",
       "      <td>30-49</td>\n",
       "    </tr>\n",
       "    <tr>\n",
       "      <th>1311</th>\n",
       "      <td>1331</td>\n",
       "      <td>Akala</td>\n",
       "      <td>Simbi</td>\n",
       "      <td>Female</td>\n",
       "      <td>Nasarawa</td>\n",
       "      <td>Rural</td>\n",
       "      <td>1984-11-02</td>\n",
       "      <td>Viral Haemmorrhaphic Fever</td>\n",
       "      <td>dead</td>\n",
       "      <td>Not Confirmed</td>\n",
       "      <td>...</td>\n",
       "      <td>No</td>\n",
       "      <td>0</td>\n",
       "      <td>Yes</td>\n",
       "      <td>southeast</td>\n",
       "      <td>48885.14</td>\n",
       "      <td>29.5</td>\n",
       "      <td>female</td>\n",
       "      <td>12629.16560</td>\n",
       "      <td>38.1</td>\n",
       "      <td>20-29</td>\n",
       "    </tr>\n",
       "    <tr>\n",
       "      <th>1312</th>\n",
       "      <td>1332</td>\n",
       "      <td>Akinyemi</td>\n",
       "      <td>Kagara</td>\n",
       "      <td>Male</td>\n",
       "      <td>Niger</td>\n",
       "      <td>Urban</td>\n",
       "      <td>1990-03-06</td>\n",
       "      <td>Ebola</td>\n",
       "      <td>alive</td>\n",
       "      <td>Not Confirmed</td>\n",
       "      <td>...</td>\n",
       "      <td>No</td>\n",
       "      <td>1</td>\n",
       "      <td>Yes</td>\n",
       "      <td>southeast</td>\n",
       "      <td>48970.25</td>\n",
       "      <td>22.0</td>\n",
       "      <td>female</td>\n",
       "      <td>10795.93733</td>\n",
       "      <td>41.1</td>\n",
       "      <td>20-29</td>\n",
       "    </tr>\n",
       "    <tr>\n",
       "      <th>1313</th>\n",
       "      <td>1333</td>\n",
       "      <td>David</td>\n",
       "      <td>Areoye</td>\n",
       "      <td>Male</td>\n",
       "      <td>Oyo</td>\n",
       "      <td>Urban</td>\n",
       "      <td>1987-02-25</td>\n",
       "      <td>Malaria</td>\n",
       "      <td>alive</td>\n",
       "      <td>Confirmed</td>\n",
       "      <td>...</td>\n",
       "      <td>No</td>\n",
       "      <td>2</td>\n",
       "      <td>Yes</td>\n",
       "      <td>southeast</td>\n",
       "      <td>49577.66</td>\n",
       "      <td>28.5</td>\n",
       "      <td>female</td>\n",
       "      <td>11411.68500</td>\n",
       "      <td>37.0</td>\n",
       "      <td>20-29</td>\n",
       "    </tr>\n",
       "    <tr>\n",
       "      <th>1314</th>\n",
       "      <td>1334</td>\n",
       "      <td>Eze</td>\n",
       "      <td>Feranmi</td>\n",
       "      <td>Male</td>\n",
       "      <td>Cross River</td>\n",
       "      <td>Urban</td>\n",
       "      <td>2008-02-22</td>\n",
       "      <td>Measles</td>\n",
       "      <td>dead</td>\n",
       "      <td>Not Confirmed</td>\n",
       "      <td>...</td>\n",
       "      <td>No</td>\n",
       "      <td>1</td>\n",
       "      <td>Yes</td>\n",
       "      <td>southwest</td>\n",
       "      <td>51194.56</td>\n",
       "      <td>23.0</td>\n",
       "      <td>male</td>\n",
       "      <td>10600.54830</td>\n",
       "      <td>36.4</td>\n",
       "      <td>20-29</td>\n",
       "    </tr>\n",
       "    <tr>\n",
       "      <th>1315</th>\n",
       "      <td>1335</td>\n",
       "      <td>Mohjid</td>\n",
       "      <td>Benedicta</td>\n",
       "      <td>Female</td>\n",
       "      <td>Lagos</td>\n",
       "      <td>Urban</td>\n",
       "      <td>1946-02-21</td>\n",
       "      <td>Cholera</td>\n",
       "      <td>dead</td>\n",
       "      <td>Not Confirmed</td>\n",
       "      <td>...</td>\n",
       "      <td>No</td>\n",
       "      <td>0</td>\n",
       "      <td>Yes</td>\n",
       "      <td>southwest</td>\n",
       "      <td>52590.83</td>\n",
       "      <td>53.5</td>\n",
       "      <td>female</td>\n",
       "      <td>2205.98080</td>\n",
       "      <td>32.8</td>\n",
       "      <td>50-69</td>\n",
       "    </tr>\n",
       "    <tr>\n",
       "      <th>1316</th>\n",
       "      <td>1336</td>\n",
       "      <td>Orji</td>\n",
       "      <td>Mooslem</td>\n",
       "      <td>Male</td>\n",
       "      <td>Niger</td>\n",
       "      <td>Rural</td>\n",
       "      <td>2013-05-24</td>\n",
       "      <td>Malaria</td>\n",
       "      <td>alive</td>\n",
       "      <td>Confirmed</td>\n",
       "      <td>...</td>\n",
       "      <td>Yes</td>\n",
       "      <td>0</td>\n",
       "      <td>Yes</td>\n",
       "      <td>northwest</td>\n",
       "      <td>55135.40</td>\n",
       "      <td>23.0</td>\n",
       "      <td>female</td>\n",
       "      <td>1629.83350</td>\n",
       "      <td>35.5</td>\n",
       "      <td>20-29</td>\n",
       "    </tr>\n",
       "    <tr>\n",
       "      <th>1317</th>\n",
       "      <td>1337</td>\n",
       "      <td>Ade</td>\n",
       "      <td>Simbi</td>\n",
       "      <td>Female</td>\n",
       "      <td>Sokoto</td>\n",
       "      <td>Urban</td>\n",
       "      <td>1961-09-11</td>\n",
       "      <td>Cholera</td>\n",
       "      <td>dead</td>\n",
       "      <td>Confirmed</td>\n",
       "      <td>...</td>\n",
       "      <td>No</td>\n",
       "      <td>1</td>\n",
       "      <td>Yes</td>\n",
       "      <td>northeast</td>\n",
       "      <td>58571.07</td>\n",
       "      <td>54.5</td>\n",
       "      <td>female</td>\n",
       "      <td>2007.94500</td>\n",
       "      <td>38.1</td>\n",
       "      <td>50-69</td>\n",
       "    </tr>\n",
       "    <tr>\n",
       "      <th>1318</th>\n",
       "      <td>1338</td>\n",
       "      <td>Ayo</td>\n",
       "      <td>Florence</td>\n",
       "      <td>Female</td>\n",
       "      <td>Ebonyi</td>\n",
       "      <td>Rural</td>\n",
       "      <td>1973-11-07</td>\n",
       "      <td>Malaria</td>\n",
       "      <td>alive</td>\n",
       "      <td>Not Confirmed</td>\n",
       "      <td>...</td>\n",
       "      <td>Yes</td>\n",
       "      <td>3</td>\n",
       "      <td>Yes</td>\n",
       "      <td>northwest</td>\n",
       "      <td>60021.40</td>\n",
       "      <td>36.0</td>\n",
       "      <td>female</td>\n",
       "      <td>29141.36030</td>\n",
       "      <td>34.5</td>\n",
       "      <td>30-49</td>\n",
       "    </tr>\n",
       "  </tbody>\n",
       "</table>\n",
       "<p>10 rows × 21 columns</p>\n",
       "</div>"
      ],
      "text/plain": [
       "        Id   surname   firstname  gender        state settlement  \\\n",
       "1309  1329  Akinyemi  Alexandria  Female       Bauchi      Urban   \n",
       "1310  1330       Ado   Benedicta  Female  Cross River      Rural   \n",
       "1311  1331     Akala       Simbi  Female     Nasarawa      Rural   \n",
       "1312  1332  Akinyemi      Kagara    Male        Niger      Urban   \n",
       "1313  1333     David      Areoye    Male          Oyo      Urban   \n",
       "1314  1334       Eze     Feranmi    Male  Cross River      Urban   \n",
       "1315  1335    Mohjid   Benedicta  Female        Lagos      Urban   \n",
       "1316  1336      Orji     Mooslem    Male        Niger      Rural   \n",
       "1317  1337       Ade       Simbi  Female       Sokoto      Urban   \n",
       "1318  1338       Ayo    Florence  Female       Ebonyi      Rural   \n",
       "\n",
       "     date_of_birth                     disease health_status report_outcome  \\\n",
       "1309    1958-06-21                Yellow Fever         alive  Not Confirmed   \n",
       "1310    2003-10-27                   Diarrhoea          dead      Confirmed   \n",
       "1311    1984-11-02  Viral Haemmorrhaphic Fever          dead  Not Confirmed   \n",
       "1312    1990-03-06                       Ebola         alive  Not Confirmed   \n",
       "1313    1987-02-25                     Malaria         alive      Confirmed   \n",
       "1314    2008-02-22                     Measles          dead  Not Confirmed   \n",
       "1315    1946-02-21                     Cholera          dead  Not Confirmed   \n",
       "1316    2013-05-24                     Malaria         alive      Confirmed   \n",
       "1317    1961-09-11                     Cholera          dead      Confirmed   \n",
       "1318    1973-11-07                     Malaria         alive  Not Confirmed   \n",
       "\n",
       "      ...  diabetic children  smoker     region     claim   age     sex  \\\n",
       "1309  ...        No        1     Yes  southeast  48675.52  52.0  female   \n",
       "1310  ...       Yes        0     Yes  southwest  48824.45  32.5    male   \n",
       "1311  ...        No        0     Yes  southeast  48885.14  29.5  female   \n",
       "1312  ...        No        1     Yes  southeast  48970.25  22.0  female   \n",
       "1313  ...        No        2     Yes  southeast  49577.66  28.5  female   \n",
       "1314  ...        No        1     Yes  southwest  51194.56  23.0    male   \n",
       "1315  ...        No        0     Yes  southwest  52590.83  53.5  female   \n",
       "1316  ...       Yes        0     Yes  northwest  55135.40  23.0  female   \n",
       "1317  ...        No        1     Yes  northeast  58571.07  54.5  female   \n",
       "1318  ...       Yes        3     Yes  northwest  60021.40  36.0  female   \n",
       "\n",
       "          charges   bmi  age_group  \n",
       "1309  22395.74424  42.1      50-69  \n",
       "1310  10325.20600  37.7      30-49  \n",
       "1311  12629.16560  38.1      20-29  \n",
       "1312  10795.93733  41.1      20-29  \n",
       "1313  11411.68500  37.0      20-29  \n",
       "1314  10600.54830  36.4      20-29  \n",
       "1315   2205.98080  32.8      50-69  \n",
       "1316   1629.83350  35.5      20-29  \n",
       "1317   2007.94500  38.1      50-69  \n",
       "1318  29141.36030  34.5      30-49  \n",
       "\n",
       "[10 rows x 21 columns]"
      ]
     },
     "execution_count": 56,
     "metadata": {},
     "output_type": "execute_result"
    }
   ],
   "source": [
    "ra_merged.tail(10)"
   ]
  },
  {
   "cell_type": "markdown",
   "id": "8bc4bee8",
   "metadata": {},
   "source": [
    "# Cleaning and Preprocessing"
   ]
  },
  {
   "cell_type": "code",
   "execution_count": 20,
   "id": "ce6589f6",
   "metadata": {},
   "outputs": [],
   "source": [
    "# Cleanse and preprocess data: standardize formats\n",
    "ra_merged['date_of_birth'] = pd.to_datetime(ra_merged['date_of_birth'], errors='coerce')\n",
    "\n",
    "# Combine 'age_x' and 'age_y' columns into a single 'age' column\n",
    "ra_merged['age'] = ra_merged[['age_x', 'age_y']].mean(axis=1)\n",
    "\n",
    "# Drop the individual 'age_x' and 'age_y' columns\n",
    "ra_merged.drop(['age_x', 'age_y'], axis=1, inplace=True)"
   ]
  },
  {
   "cell_type": "code",
   "execution_count": 21,
   "id": "6185eca5",
   "metadata": {},
   "outputs": [],
   "source": [
    "# Fill missing values in 'gender_x' column with values from 'gender_y' column\n",
    "ra_merged['gender_x'].fillna(ra_merged['gender_y'], inplace=True)\n",
    "\n",
    "# Rename 'gender_x' to 'gender'\n",
    "ra_merged.rename(columns={'gender_x': 'gender'}, inplace=True)\n",
    "\n",
    "# Drop 'gender_y' column\n",
    "ra_merged.drop('gender_y', axis=1, inplace=True)"
   ]
  },
  {
   "cell_type": "code",
   "execution_count": 22,
   "id": "63ee24a7",
   "metadata": {},
   "outputs": [],
   "source": [
    "# Fill missing values in 'children_x' column with values from 'children_y' column\n",
    "ra_merged['children_x'].fillna(ra_merged['children_y'], inplace=True)\n",
    "\n",
    "# Rename 'children_x' to 'children'\n",
    "ra_merged.rename(columns={'children_x': 'children'}, inplace=True)\n",
    "\n",
    "# Drop 'children_y' column\n",
    "ra_merged.drop('children_y', axis=1, inplace=True)"
   ]
  },
  {
   "cell_type": "code",
   "execution_count": 23,
   "id": "9bd958b8",
   "metadata": {},
   "outputs": [],
   "source": [
    "# Fill missing values in 'smoker_x' column with values from 'smoker_y' column\n",
    "ra_merged['smoker_x'].fillna(ra_merged['smoker_y'], inplace=True)\n",
    "\n",
    "# Rename 'smoker_x' to 'smoker'\n",
    "ra_merged.rename(columns={'smoker_x': 'smoker'}, inplace=True)\n",
    "\n",
    "# Drop 'smoker_y' column\n",
    "ra_merged.drop('smoker_y', axis=1, inplace=True)"
   ]
  },
  {
   "cell_type": "code",
   "execution_count": 24,
   "id": "9e6e8105",
   "metadata": {},
   "outputs": [],
   "source": [
    "# Fill missing values in 'region_x' column with values from 'region_y' column\n",
    "ra_merged['region_x'].fillna(ra_merged['region_y'], inplace=True)\n",
    "\n",
    "# Rename 'region_x' to 'region'\n",
    "ra_merged.rename(columns={'region_x': 'region'}, inplace=True)\n",
    "\n",
    "# Drop 'region_y' column\n",
    "ra_merged.drop('region_y', axis=1, inplace=True)"
   ]
  },
  {
   "cell_type": "code",
   "execution_count": 25,
   "id": "eb8e8cca",
   "metadata": {},
   "outputs": [],
   "source": [
    "# Combine 'bmi_x' and 'bmi_y' columns into a single 'bmi' column\n",
    "ra_merged['bmi'] = ra_merged['bmi_x'].combine_first(ra_merged['bmi_y'])\n",
    "\n",
    "# Drop 'bmi_x' and 'bmi_y' columns\n",
    "ra_merged.drop(['bmi_x', 'bmi_y'], axis=1, inplace=True)"
   ]
  },
  {
   "cell_type": "code",
   "execution_count": 26,
   "id": "4b7a4c75",
   "metadata": {},
   "outputs": [
    {
     "data": {
      "text/plain": [
       "Index(['Id', 'surname', 'firstname', 'gender', 'state', 'settlement',\n",
       "       'date_of_birth', 'disease', 'health_status', 'report_outcome',\n",
       "       'bloodpressure', 'diabetic', 'children', 'smoker', 'region', 'claim',\n",
       "       'age', 'sex', 'charges', 'bmi'],\n",
       "      dtype='object')"
      ]
     },
     "execution_count": 26,
     "metadata": {},
     "output_type": "execute_result"
    }
   ],
   "source": [
    "ra_merged.columns"
   ]
  },
  {
   "cell_type": "markdown",
   "id": "3314c5e9",
   "metadata": {},
   "source": [
    "# DATA AGGREGATION"
   ]
  },
  {
   "cell_type": "code",
   "execution_count": 27,
   "id": "7f2721bc",
   "metadata": {},
   "outputs": [
    {
     "name": "stdout",
     "output_type": "stream",
     "text": [
      "Average Age by Gender:\n",
      "gender\n",
      "Female    36.049048\n",
      "Male      36.772013\n",
      "Name: age, dtype: float64\n",
      "\n",
      "Insurance Coverage Distribution:\n",
      "claim\n",
      "1639.56     0.001516\n",
      "1704.57     0.001516\n",
      "1149.40     0.001516\n",
      "1121.87     0.000758\n",
      "12829.46    0.000758\n",
      "              ...   \n",
      "6313.76     0.000758\n",
      "6311.95     0.000758\n",
      "6289.75     0.000758\n",
      "6282.24     0.000758\n",
      "60021.40    0.000758\n",
      "Name: proportion, Length: 1316, dtype: float64\n",
      "\n",
      "Total Medical Costs for Meningitis Treatment:\n",
      "17498829.140809\n"
     ]
    }
   ],
   "source": [
    "# Calculate average age of meningitis patients\n",
    "average_age = ra_merged.groupby('gender')['age'].mean()\n",
    "print(\"Average Age by Gender:\")\n",
    "print(average_age)\n",
    "\n",
    "# Analyze insurance coverage among meningitis patients\n",
    "insurance_distribution = ra_merged['claim'].value_counts(normalize=True)\n",
    "print(\"\\nInsurance Coverage Distribution:\")\n",
    "print(insurance_distribution)\n",
    "\n",
    "# Calculate total medical costs associated with treating meningitis\n",
    "total_medical_costs = ra_merged['charges'].sum()\n",
    "print(\"\\nTotal Medical Costs for Meningitis Treatment:\")\n",
    "print(total_medical_costs)"
   ]
  },
  {
   "cell_type": "code",
   "execution_count": 28,
   "id": "5c1bb671",
   "metadata": {},
   "outputs": [
    {
     "name": "stdout",
     "output_type": "stream",
     "text": [
      "Distribution of Patients by Age Group:\n",
      "age_group\n",
      "10-19    133\n",
      "20-29    290\n",
      "30-49    567\n",
      "50-69    329\n",
      "Name: count, dtype: int64\n"
     ]
    }
   ],
   "source": [
    "# Calculate distribution of patients by custom age group\n",
    "age_bins = [9, 20, 30, 46, 67]  # Adjusted age bins to cover the entire range\n",
    "age_labels = ['10-19', '20-29', '30-49', '50-69']  # Labels for age groups\n",
    "ra_merged['age_group'] = pd.cut(ra_merged['age'], bins=age_bins, labels=age_labels, right=False)\n",
    "age_distribution = ra_merged['age_group'].value_counts().sort_index()\n",
    "print(\"Distribution of Patients by Age Group:\")\n",
    "print(age_distribution)"
   ]
  },
  {
   "cell_type": "code",
   "execution_count": 29,
   "id": "47f3c1e5",
   "metadata": {},
   "outputs": [
    {
     "name": "stdout",
     "output_type": "stream",
     "text": [
      "\n",
      "Average Age of Patients by Disease:\n",
      "disease\n",
      "Cholera                       35.718750\n",
      "Diarrhoea                     36.127737\n",
      "Ebola                         36.273913\n",
      "Malaria                       35.330935\n",
      "Marburg Virus                 36.617284\n",
      "Measles                       36.917323\n",
      "Meningitis                    37.463115\n",
      "Rubella Mars                  35.841463\n",
      "Viral Haemmorrhaphic Fever    37.076923\n",
      "Yellow Fever                  36.779167\n",
      "Name: age, dtype: float64\n"
     ]
    }
   ],
   "source": [
    "# Calculate average age of patients by disease\n",
    "average_age_by_disease = ra_merged.groupby('disease')['age'].mean()\n",
    "print(\"\\nAverage Age of Patients by Disease:\")\n",
    "print(average_age_by_disease)"
   ]
  },
  {
   "cell_type": "code",
   "execution_count": 30,
   "id": "52e30165",
   "metadata": {},
   "outputs": [
    {
     "name": "stdout",
     "output_type": "stream",
     "text": [
      "Distribution of Patients by State:\n",
      "state\n",
      "Nasarawa                     53\n",
      "Ebonyi                       45\n",
      "Yobe                         44\n",
      "Osun                         41\n",
      "Imo                          40\n",
      "Rivers                       39\n",
      "Kaduna                       39\n",
      "Adamawa                      39\n",
      "Katsina                      38\n",
      "Abia                         38\n",
      "Bauchi                       37\n",
      "Edo                          37\n",
      "Sokoto                       37\n",
      "Kogi                         37\n",
      "Ekiti                        36\n",
      "Akwa Ibom                    36\n",
      "Ogun                         36\n",
      "Niger                        36\n",
      "Delta                        35\n",
      "Cross River                  35\n",
      "Kwara                        35\n",
      "Oyo                          35\n",
      "Zamfara                      35\n",
      "Jigawa                       34\n",
      "Kebbi                        34\n",
      "Gombe                        34\n",
      "Bayelsa                      34\n",
      "Borno                        34\n",
      "Plateau                      33\n",
      "Ondo                         33\n",
      "Taraba                       31\n",
      "Federal Capital Territory    31\n",
      "Enugu                        31\n",
      "Kano                         31\n",
      "Anambra                      28\n",
      "Benue                        27\n",
      "Lagos                        21\n",
      "Name: count, dtype: int64\n"
     ]
    }
   ],
   "source": [
    "# Determine distribution of patients by state\n",
    "state_distribution = ra_merged['state'].value_counts()\n",
    "print(\"Distribution of Patients by State:\")\n",
    "print(state_distribution)"
   ]
  },
  {
   "cell_type": "code",
   "execution_count": 31,
   "id": "4198f037",
   "metadata": {},
   "outputs": [
    {
     "name": "stdout",
     "output_type": "stream",
     "text": [
      "\n",
      "Average Healthcare Costs by Region:\n",
      "region\n",
      "northeast    14157.035302\n",
      "northwest    13668.451793\n",
      "southeast    12549.032938\n",
      "southwest    13164.640157\n",
      "Name: charges, dtype: float64\n"
     ]
    }
   ],
   "source": [
    "# Analyze healthcare costs by region\n",
    "healthcare_cost_by_region = ra_merged.groupby('region')['charges'].mean()\n",
    "print(\"\\nAverage Healthcare Costs by Region:\")\n",
    "print(healthcare_cost_by_region)"
   ]
  },
  {
   "cell_type": "code",
   "execution_count": 32,
   "id": "7952fff6",
   "metadata": {},
   "outputs": [
    {
     "name": "stdout",
     "output_type": "stream",
     "text": [
      "\n",
      "Disease Count by Region:\n",
      "region     disease                   \n",
      "northeast  Diarrhoea                     29\n",
      "           Yellow Fever                  29\n",
      "           Measles                       28\n",
      "           Malaria                       27\n",
      "           Cholera                       23\n",
      "           Marburg Virus                 23\n",
      "           Meningitis                    20\n",
      "           Rubella Mars                  19\n",
      "           Ebola                         18\n",
      "           Viral Haemmorrhaphic Fever    14\n",
      "northwest  Diarrhoea                     40\n",
      "           Viral Haemmorrhaphic Fever    40\n",
      "           Marburg Virus                 40\n",
      "           Rubella Mars                  36\n",
      "           Meningitis                    35\n",
      "           Measles                       34\n",
      "           Yellow Fever                  31\n",
      "           Malaria                       31\n",
      "           Ebola                         31\n",
      "           Cholera                       29\n",
      "southeast  Marburg Virus                 60\n",
      "           Cholera                       52\n",
      "           Viral Haemmorrhaphic Fever    46\n",
      "           Yellow Fever                  44\n",
      "           Malaria                       44\n",
      "           Diarrhoea                     41\n",
      "           Rubella Mars                  40\n",
      "           Meningitis                    37\n",
      "           Ebola                         36\n",
      "           Measles                       36\n",
      "southwest  Cholera                       40\n",
      "           Marburg Virus                 39\n",
      "           Malaria                       37\n",
      "           Meningitis                    30\n",
      "           Viral Haemmorrhaphic Fever    30\n",
      "           Ebola                         30\n",
      "           Measles                       29\n",
      "           Rubella Mars                  28\n",
      "           Diarrhoea                     27\n",
      "           Yellow Fever                  16\n",
      "Name: count, dtype: int64\n"
     ]
    }
   ],
   "source": [
    "# Analyze disease count by region\n",
    "disease_by_region = ra_merged.groupby('region')['disease'].value_counts()\n",
    "\n",
    "print(\"\\nDisease Count by Region:\")\n",
    "print(disease_by_region)"
   ]
  },
  {
   "cell_type": "code",
   "execution_count": 33,
   "id": "23e4b626",
   "metadata": {},
   "outputs": [
    {
     "name": "stdout",
     "output_type": "stream",
     "text": [
      "Prevalence of Diseases Among Patients:\n",
      "disease\n",
      "Marburg Virus                 0.122820\n",
      "Cholera                       0.109174\n",
      "Malaria                       0.105383\n",
      "Diarrhoea                     0.103867\n",
      "Viral Haemmorrhaphic Fever    0.098560\n",
      "Measles                       0.096285\n",
      "Rubella Mars                  0.093252\n",
      "Meningitis                    0.092494\n",
      "Yellow Fever                  0.090978\n",
      "Ebola                         0.087187\n",
      "Name: proportion, dtype: float64\n"
     ]
    }
   ],
   "source": [
    "# Calculate prevalence of diseases among patients\n",
    "disease_prevalence = ra_merged['disease'].value_counts(normalize=True)\n",
    "print(\"Prevalence of Diseases Among Patients:\")\n",
    "print(disease_prevalence)"
   ]
  },
  {
   "cell_type": "code",
   "execution_count": 34,
   "id": "0a5a62e4",
   "metadata": {},
   "outputs": [
    {
     "name": "stdout",
     "output_type": "stream",
     "text": [
      "Disease Count per Gender:\n",
      "gender\n",
      "Female    683\n",
      "Male      636\n",
      "Name: disease, dtype: int64\n"
     ]
    }
   ],
   "source": [
    "# Calculate disease count per gender\n",
    "disease_count_per_gender = ra_merged.groupby('gender')['disease'].count()\n",
    "\n",
    "# Display the result\n",
    "print(\"Disease Count per Gender:\")\n",
    "print(disease_count_per_gender)"
   ]
  },
  {
   "cell_type": "code",
   "execution_count": 35,
   "id": "7a88ead8",
   "metadata": {},
   "outputs": [
    {
     "name": "stdout",
     "output_type": "stream",
     "text": [
      "\n",
      "Distribution of Health Status by Settlement:\n",
      "settlement  health_status\n",
      "Rural       dead             339\n",
      "            alive            315\n",
      "Urban       dead             342\n",
      "            alive            323\n",
      "Name: count, dtype: int64\n"
     ]
    }
   ],
   "source": [
    "# Convert health_status to lowercase\n",
    "ra_merged['health_status'] = ra_merged['health_status'].str.lower()\n",
    "\n",
    "# Distribution of health status by settlement\n",
    "health_status_distribution = ra_merged.groupby('settlement')['health_status'].value_counts()\n",
    "\n",
    "print(\"\\nDistribution of Health Status by Settlement:\")\n",
    "print(health_status_distribution)"
   ]
  },
  {
   "cell_type": "code",
   "execution_count": 36,
   "id": "e91db726",
   "metadata": {},
   "outputs": [
    {
     "data": {
      "text/plain": [
       "Index(['Id', 'surname', 'firstname', 'gender', 'state', 'settlement',\n",
       "       'date_of_birth', 'disease', 'health_status', 'report_outcome',\n",
       "       'bloodpressure', 'diabetic', 'children', 'smoker', 'region', 'claim',\n",
       "       'age', 'sex', 'charges', 'bmi', 'age_group'],\n",
       "      dtype='object')"
      ]
     },
     "execution_count": 36,
     "metadata": {},
     "output_type": "execute_result"
    }
   ],
   "source": [
    "ra_merged.columns"
   ]
  },
  {
   "cell_type": "markdown",
   "id": "c6cfc33f",
   "metadata": {},
   "source": [
    "# Data Visualization and Reporting "
   ]
  },
  {
   "cell_type": "code",
   "execution_count": 37,
   "id": "230fd0f8",
   "metadata": {},
   "outputs": [
    {
     "data": {
      "text/plain": [
       "<Figure size 1000x600 with 0 Axes>"
      ]
     },
     "metadata": {},
     "output_type": "display_data"
    },
    {
     "data": {
      "image/png": "[encoded data removed]",
      "text/plain": [
       "<Figure size 640x480 with 1 Axes>"
      ]
     },
     "metadata": {},
     "output_type": "display_data"
    }
   ],
   "source": [
    "import matplotlib.pyplot as plt\n",
    "\n",
    "# Group the data by gender and disease, then count the occurrences\n",
    "disease_count_by_gender = ra_merged.groupby(['gender', 'disease']).size().unstack(fill_value=0)\n",
    "\n",
    "# Visualization: Stacked bar plot of disease count by gender\n",
    "plt.figure(figsize=(10, 6))\n",
    "ax = disease_count_by_gender.plot(kind='bar', stacked=True)\n",
    "\n",
    "# Adding data labels to each stacked bar\n",
    "for p in ax.patches:\n",
    "    width = p.get_width()\n",
    "    height = p.get_height()\n",
    "    x, y = p.get_xy() \n",
    "    ax.annotate(f'{height}', (x + width/2, y + height/2), ha='center', va='center')\n",
    "\n",
    "# Adding labels and title\n",
    "plt.title('Disease Count by Gender')\n",
    "plt.xlabel('Gender')\n",
    "plt.ylabel('Disease Count')\n",
    "plt.xticks(rotation=0)  # Rotate x-axis labels if needed\n",
    "\n",
    "# Shifting the legend to the far right of the chart\n",
    "plt.legend(title='Disease', bbox_to_anchor=(1.05, 1), loc='upper left')\n",
    "\n",
    "# Showing the plot\n",
    "plt.tight_layout()  # Adjust layout to prevent clipping of labels\n",
    "plt.show()"
   ]
  },
  {
   "cell_type": "code",
   "execution_count": 38,
   "id": "474c09ea",
   "metadata": {},
   "outputs": [],
   "source": [
    "#ra_merged['disease'].unique()"
   ]
  },
  {
   "cell_type": "code",
   "execution_count": 39,
   "id": "d1bdfa4c",
   "metadata": {},
   "outputs": [
    {
     "data": {
      "text/plain": [
       "Index(['Id', 'surname', 'firstname', 'gender', 'state', 'settlement',\n",
       "       'date_of_birth', 'disease', 'health_status', 'report_outcome',\n",
       "       'bloodpressure', 'diabetic', 'children', 'smoker', 'region', 'claim',\n",
       "       'age', 'sex', 'charges', 'bmi', 'age_group'],\n",
       "      dtype='object')"
      ]
     },
     "execution_count": 39,
     "metadata": {},
     "output_type": "execute_result"
    }
   ],
   "source": [
    "ra_merged.columns"
   ]
  },
  {
   "cell_type": "code",
   "execution_count": 40,
   "id": "d131a21a",
   "metadata": {},
   "outputs": [
    {
     "data": {
      "image/png": "[encoded data removed]",
      "text/plain": [
       "<Figure size 800x600 with 1 Axes>"
      ]
     },
     "metadata": {},
     "output_type": "display_data"
    }
   ],
   "source": [
    "# Visualization: Bar chart of patients by age group with data labels\n",
    "plt.figure(figsize=(8, 6))\n",
    "bars = age_distribution.plot(kind='bar', color='blue')\n",
    "\n",
    "# Add data labels to the bars\n",
    "for bar in bars.patches:\n",
    "    plt.annotate(round(bar.get_height(), 2), \n",
    "                 (bar.get_x() + bar.get_width() / 2, bar.get_height()), \n",
    "                 ha='center', va='bottom')\n",
    "    \n",
    "plt.title('Distribution of Patients by Age Group')\n",
    "plt.xlabel('Age Group')\n",
    "plt.ylabel('Number of Patients')\n",
    "plt.xticks(rotation=45)\n",
    "plt.show()"
   ]
  },
  {
   "cell_type": "code",
   "execution_count": 41,
   "id": "38ac4d0b",
   "metadata": {},
   "outputs": [
    {
     "data": {
      "image/png": "[encoded data removed]",
      "text/plain": [
       "<Figure size 1200x600 with 1 Axes>"
      ]
     },
     "metadata": {},
     "output_type": "display_data"
    }
   ],
   "source": [
    "# Visualization: Bar chart of patients by state\n",
    "plt.figure(figsize=(12, 6))\n",
    "state_distribution.plot(kind='bar', color='blue')\n",
    "plt.title('Distribution of Patients by State')\n",
    "plt.xlabel('State')\n",
    "plt.ylabel('Number of Patients')\n",
    "plt.xticks(rotation=90)\n",
    "plt.show()"
   ]
  },
  {
   "cell_type": "code",
   "execution_count": 42,
   "id": "c39af877",
   "metadata": {},
   "outputs": [
    {
     "data": {
      "image/png": "[encoded data removed]",
      "text/plain": [
       "<Figure size 1200x600 with 1 Axes>"
      ]
     },
     "metadata": {},
     "output_type": "display_data"
    }
   ],
   "source": [
    "# Visualization: Bar chart of patients by state\n",
    "plt.figure(figsize=(12, 6))\n",
    "healthcare_cost_by_region.plot(kind='bar', color='blue')\n",
    "\n",
    "# Add data labels to the bars\n",
    "for bar in bars.patches:\n",
    "    plt.annotate(round(bar.get_height(), 2), \n",
    "                 (bar.get_x() + bar.get_width() / 2, bar.get_height()), \n",
    "                 ha='center', va='bottom')\n",
    "    \n",
    "plt.title('Healthcare Cost by Region')\n",
    "plt.xlabel('Region')\n",
    "plt.ylabel('healthcare Cost')\n",
    "plt.xticks(rotation=90)\n",
    "plt.show()"
   ]
  },
  {
   "cell_type": "code",
   "execution_count": 43,
   "id": "c627e42b",
   "metadata": {},
   "outputs": [
    {
     "data": {
      "image/png": "[encoded data removed]",
      "text/plain": [
       "<Figure size 1000x600 with 1 Axes>"
      ]
     },
     "metadata": {},
     "output_type": "display_data"
    }
   ],
   "source": [
    "import matplotlib.pyplot as plt\n",
    "\n",
    "# Unstack the grouped data to prepare for plotting\n",
    "health_status_distribution_unstacked = health_status_distribution.unstack()\n",
    "\n",
    "# Plotting the stacked bar chart\n",
    "ax = health_status_distribution_unstacked.plot(kind='bar', stacked=True, figsize=(10, 6))\n",
    "\n",
    "# Adding data labels to the stacked bars\n",
    "for p in ax.patches:\n",
    "    width = p.get_width()\n",
    "    height = p.get_height()\n",
    "    x, y = p.get_xy() \n",
    "    ax.annotate(f'{height}', (x + width/2, y + height/2), ha='center', va='center')\n",
    "\n",
    "# Adding labels and title\n",
    "plt.title('Distribution of Health Status by Settlement')\n",
    "plt.xlabel('Settlement')\n",
    "plt.ylabel('Number of Patients')\n",
    "plt.xticks(rotation=0)  # Rotate x-axis labels if needed\n",
    "\n",
    "# Showing the plot\n",
    "plt.legend(title='Health Status')\n",
    "plt.tight_layout()  # Adjust layout to prevent clipping of labels\n",
    "plt.show()"
   ]
  },
  {
   "cell_type": "code",
   "execution_count": 44,
   "id": "64489218",
   "metadata": {},
   "outputs": [
    {
     "data": {
      "text/plain": [
       "<Figure size 1200x800 with 0 Axes>"
      ]
     },
     "metadata": {},
     "output_type": "display_data"
    },
    {
     "data": {
      "image/png": "[encoded data removed]",
      "text/plain": [
       "<Figure size 640x480 with 1 Axes>"
      ]
     },
     "metadata": {},
     "output_type": "display_data"
    }
   ],
   "source": [
    "import matplotlib.pyplot as plt\n",
    "\n",
    "# Analyze disease count by region\n",
    "disease_by_region = ra_merged.groupby(['region', 'disease']).size().unstack(fill_value=0)\n",
    "\n",
    "# Visualization: Stacked bar plot of disease count by region\n",
    "plt.figure(figsize=(12, 8))\n",
    "disease_by_region.plot(kind='bar', stacked=True)\n",
    "\n",
    "# Adding labels and title\n",
    "plt.title('Disease Count by Region')\n",
    "plt.xlabel('Region')\n",
    "plt.ylabel('Count of Diseases')\n",
    "plt.xticks(rotation=45)  # Rotate x-axis labels if needed\n",
    "\n",
    "# Showing the plot\n",
    "plt.legend(title='Disease', bbox_to_anchor=(1.05, 1), loc='upper left')  # Adjust legend position\n",
    "plt.tight_layout()  # Adjust layout to prevent clipping of labels\n",
    "plt.show()"
   ]
  },
  {
   "cell_type": "markdown",
   "id": "c76a9841",
   "metadata": {},
   "source": [
    "# USE CASE EXAMPLE"
   ]
  },
  {
   "cell_type": "code",
   "execution_count": 45,
   "id": "c016ca53",
   "metadata": {},
   "outputs": [
    {
     "name": "stdout",
     "output_type": "stream",
     "text": [
      "<class 'pandas.core.frame.DataFrame'>\n",
      "RangeIndex: 1319 entries, 0 to 1318\n",
      "Data columns (total 21 columns):\n",
      " #   Column          Non-Null Count  Dtype         \n",
      "---  ------          --------------  -----         \n",
      " 0   Id              1319 non-null   int64         \n",
      " 1   surname         1319 non-null   object        \n",
      " 2   firstname       1319 non-null   object        \n",
      " 3   gender          1319 non-null   object        \n",
      " 4   state           1319 non-null   object        \n",
      " 5   settlement      1319 non-null   object        \n",
      " 6   date_of_birth   1300 non-null   datetime64[ns]\n",
      " 7   disease         1319 non-null   object        \n",
      " 8   health_status   1319 non-null   object        \n",
      " 9   report_outcome  1319 non-null   object        \n",
      " 10  bloodpressure   1319 non-null   int64         \n",
      " 11  diabetic        1319 non-null   object        \n",
      " 12  children        1319 non-null   int64         \n",
      " 13  smoker          1319 non-null   object        \n",
      " 14  region          1319 non-null   object        \n",
      " 15  claim           1319 non-null   float64       \n",
      " 16  age             1319 non-null   float64       \n",
      " 17  sex             1319 non-null   object        \n",
      " 18  charges         1319 non-null   float64       \n",
      " 19  bmi             1319 non-null   float64       \n",
      " 20  age_group       1319 non-null   category      \n",
      "dtypes: category(1), datetime64[ns](1), float64(4), int64(3), object(12)\n",
      "memory usage: 207.7+ KB\n"
     ]
    }
   ],
   "source": [
    "ra_merged.info()"
   ]
  },
  {
   "cell_type": "code",
   "execution_count": 46,
   "id": "6a5de6f8",
   "metadata": {},
   "outputs": [
    {
     "data": {
      "text/plain": [
       "disease\n",
       "Marburg Virus                 162\n",
       "Cholera                       144\n",
       "Malaria                       139\n",
       "Diarrhoea                     137\n",
       "Viral Haemmorrhaphic Fever    130\n",
       "Measles                       127\n",
       "Rubella Mars                  123\n",
       "Meningitis                    122\n",
       "Yellow Fever                  120\n",
       "Ebola                         115\n",
       "Name: count, dtype: int64"
      ]
     },
     "execution_count": 46,
     "metadata": {},
     "output_type": "execute_result"
    }
   ],
   "source": [
    "# Disease Distribution\n",
    "# Calculate the distribution of diseases\n",
    "disease_distribution = ra_merged['disease'].value_counts()\n",
    "disease_distribution"
   ]
  },
  {
   "cell_type": "code",
   "execution_count": 53,
   "id": "96aee4d6",
   "metadata": {},
   "outputs": [
    {
     "data": {
      "image/png": "[encoded data removed]",
      "text/plain": [
       "<Figure size 1000x600 with 1 Axes>"
      ]
     },
     "metadata": {},
     "output_type": "display_data"
    }
   ],
   "source": [
    "# Visualize the distribution of diseases\n",
    "plt.figure(figsize=(10, 6))\n",
    "disease_distribution.plot(kind='bar', color='blue')\n",
    "plt.title('Distribution of Diseases by Patients')\n",
    "plt.xlabel('Disease')\n",
    "plt.ylabel('Count')\n",
    "plt.xticks(rotation=45)\n",
    "plt.show()"
   ]
  },
  {
   "cell_type": "code",
   "execution_count": 48,
   "id": "2c0d5f1a",
   "metadata": {},
   "outputs": [],
   "source": [
    "# Health Outcomes Analysis\n",
    "# Calculate mortality rates and survival rates for each disease\n",
    "health_outcomes = ra_merged.groupby('disease')['health_status'].value_counts(normalize=True).unstack(fill_value=0)"
   ]
  },
  {
   "cell_type": "code",
   "execution_count": 49,
   "id": "0be28927",
   "metadata": {},
   "outputs": [
    {
     "name": "stdout",
     "output_type": "stream",
     "text": [
      "\n",
      "Health Outcomes Analysis:\n",
      "health_status                  alive      dead\n",
      "disease                                       \n",
      "Cholera                     0.472222  0.527778\n",
      "Diarrhoea                   0.445255  0.554745\n",
      "Ebola                       0.469565  0.530435\n",
      "Malaria                     0.532374  0.467626\n",
      "Marburg Virus               0.506173  0.493827\n",
      "Measles                     0.480315  0.519685\n",
      "Meningitis                  0.483607  0.516393\n",
      "Rubella Mars                0.463415  0.536585\n",
      "Viral Haemmorrhaphic Fever  0.453846  0.546154\n",
      "Yellow Fever                0.525000  0.475000\n"
     ]
    }
   ],
   "source": [
    "# Visualize health outcomes\n",
    "print(\"\\nHealth Outcomes Analysis:\")\n",
    "print(health_outcomes)"
   ]
  },
  {
   "cell_type": "code",
   "execution_count": 50,
   "id": "c4a798a7",
   "metadata": {},
   "outputs": [],
   "source": [
    "# Age Group Analysis\n",
    "# Analyze the distribution of diseases, mortality rates, and healthcare costs across different age groups\n",
    "age_group_analysis = ra_merged.groupby('age_group').agg({\n",
    "    'disease': 'count',\n",
    "    'health_status': lambda x: (x == 'Dead').mean(),  # Calculate mortality rate\n",
    "    'charges': 'mean'\n",
    "})"
   ]
  },
  {
   "cell_type": "code",
   "execution_count": 51,
   "id": "4f8dee6a",
   "metadata": {},
   "outputs": [
    {
     "name": "stdout",
     "output_type": "stream",
     "text": [
      "\n",
      "Age Group Analysis:\n",
      "           disease  health_status       charges\n",
      "age_group                                      \n",
      "10-19          133            0.0  13208.031830\n",
      "20-29          290            0.0  12556.578678\n",
      "30-49          567            0.0  12776.425738\n",
      "50-69          329            0.0  14761.458046\n"
     ]
    }
   ],
   "source": [
    "# Visualize age group analysis\n",
    "print(\"\\nAge Group Analysis:\")\n",
    "print(age_group_analysis)"
   ]
  },
  {
   "cell_type": "markdown",
   "id": "24ea52d1",
   "metadata": {},
   "source": [
    "Insights and Recommendations"
   ]
  },
  {
   "cell_type": "raw",
   "id": "9b22a5b8",
   "metadata": {},
   "source": [
    "1. Targeted Interventions for Marburg Virus:\n",
    "   Marburg Virus is associated with high mortality rates. To address this, targeted interventions should focus on:\n",
    "   - Strengthening public health surveillance systems to detect outbreaks early.\n",
    "   - Implementing strict infection control measures in healthcare settings.\n",
    "   - Conducting public awareness campaigns to educate communities about the symptoms, transmission, and prevention of \n",
    "Marburg Virus.\n",
    "\n",
    "2. Preventive Measures for Age Group 30-49:\n",
    "   Age group 30-49 has the highest patient count. To promote preventive healthcare and well-being among this age group, \n",
    "the following measures can be recommended:\n",
    "   - Encouraging regular health check-ups and screenings for early detection of diseases.\n",
    "   - Promoting healthy lifestyle behaviors, such as regular exercise, balanced diet, and stress management.\n",
    "   - Providing access to educational resources and support for managing chronic conditions, such as diabetes and hypertension.\n",
    "\n",
    "3. Resource Allocation Based on Disease Burden:\n",
    "   Allocate healthcare resources based on the disease burden and healthcare costs associated with each disease. \n",
    "Prioritize funding and support for:\n",
    "   - Diseases with high mortality rates and severe health outcomes.\n",
    "   - Regions and communities with a higher prevalence of diseases and greater healthcare needs.\n",
    "\n",
    "4. Focus on Nassarawa for Healthcare Provision and on Lagos healthacare system to replicate to other states:\n",
    "   Nassarawa has the highest patient count. Therefore, healthcare provision and resource allocation should be \n",
    "prioritized for this region. This may include:\n",
    "   - Strengthening healthcare infrastructure and facilities.\n",
    "   - Enhancing access to quality healthcare services, including medical facilities and personnel.\n",
    "\n",
    "5. Healthcare Disparities Between Urban and Rural Settlements:\n",
    "   Urban settlements have a higher death rate than rural areas. To address this disparity, efforts should focus on:\n",
    "   - Improving access to healthcare services in urban areas, including primary care facilities and emergency services.\n",
    "   - Addressing social determinants of health, such as poverty, housing conditions, and access to clean water and sanitation.\n",
    "\n",
    "6. Regional Disparities in Disease Burden:\n",
    "   Northeast region has the lowest disease count, while the South East has the highest. Strategies should be tailored \n",
    "to address regional disparities in disease burden:\n",
    "   - Conduct further research to understand the underlying factors contributing to regional differences in disease prevalence.\n",
    "   - Implement targeted interventions and health promotion programs to address specific health needs in each region.\n",
    "\n",
    "Conclusion:\n",
    "The analysis of the dataset `ra_merged` highlights significant patterns and trends in disease distribution, \n",
    "healthcare outcomes, and resource utilization. By leveraging these insights and recommendations, \n",
    "healthcare policymakers and stakeholders can develop targeted interventions, allocate resources effectively, \n",
    "and implement strategies to improve healthcare delivery, ultimately enhancing the overall health and well-being \n",
    "of the population."
   ]
  },
  {
   "cell_type": "markdown",
   "id": "a28bfdc8",
   "metadata": {},
   "source": [
    "Data Paucity Resolved."
   ]
  }
 ],
 "metadata": {
  "kernelspec": {
   "display_name": "Python 3 (ipykernel)",
   "language": "python",
   "name": "python3"
  },
  "language_info": {
   "codemirror_mode": {
    "name": "ipython",
    "version": 3
   },
   "file_extension": ".py",
   "mimetype": "text/x-python",
   "name": "python",
   "nbconvert_exporter": "python",
   "pygments_lexer": "ipython3",
   "version": "3.11.5"
  }
 },
 "nbformat": 4,
 "nbformat_minor": 5
}
